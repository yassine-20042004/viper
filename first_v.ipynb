{
 "cells": [
  {
   "cell_type": "code",
   "execution_count": 2,
   "id": "94abbc02-6eaa-4652-9c96-2dd5b29c529c",
   "metadata": {},
   "outputs": [
    {
     "name": "stdin",
     "output_type": "stream",
     "text": [
      "Entrez le montant de la dépense :  10000\n"
     ]
    },
    {
     "name": "stdout",
     "output_type": "stream",
     "text": [
      "\n",
      "Catégories :\n",
      "1. Alimentation\n",
      "2. Transport\n",
      "3. Logement\n",
      "4. Loisirs\n",
      "5. Autre\n"
     ]
    },
    {
     "name": "stdin",
     "output_type": "stream",
     "text": [
      "\n",
      "Choisissez le numéro de la catégorie :  2\n"
     ]
    },
    {
     "name": "stdout",
     "output_type": "stream",
     "text": [
      "\n",
      "Descriptions :\n",
      "1. Repas\n",
      "2. Course\n",
      "3. Déplacement\n",
      "4. Divertissement\n",
      "5. Autre\n"
     ]
    },
    {
     "name": "stdin",
     "output_type": "stream",
     "text": [
      "\n",
      "Choisissez le numéro de la description :  3\n"
     ]
    },
    {
     "name": "stdout",
     "output_type": "stream",
     "text": [
      "\n",
      "--- Détails de la Dépense ---\n",
      "Montant : 10000 DH\n",
      "Catégorie : Transport\n",
      "Description : Déplacement\n"
     ]
    }
   ],
   "source": [
    "# Suivi des Dépenses - Semaine 1\n",
    "\n",
    "# Liste des catégories\n",
    "categories = [\n",
    "    \"Alimentation\",\n",
    "    \"Transport\", \n",
    "    \"Logement\",\n",
    "    \"Loisirs\",\n",
    "    \"Autre\"\n",
    "]\n",
    "\n",
    "# Liste des descriptions\n",
    "descriptions = [\n",
    "    \"Repas\",\n",
    "    \"Course\",\n",
    "    \"Déplacement\",\n",
    "    \"Divertissement\",\n",
    "    \"Autre\"\n",
    "]\n",
    "\n",
    "# Demander le montant\n",
    "montant = input(\"Entrez le montant de la dépense : \")\n",
    "\n",
    "# Afficher les catégories\n",
    "print(\"\\nCatégories :\")\n",
    "for i, categorie in enumerate(categories, 1):\n",
    "    print(f\"{i}. {categorie}\")\n",
    "\n",
    "# Choisir la catégorie\n",
    "numero_categorie = int(input(\"\\nChoisissez le numéro de la catégorie : \"))\n",
    "categorie = categories[numero_categorie - 1]\n",
    "\n",
    "# Afficher les descriptions\n",
    "print(\"\\nDescriptions :\")\n",
    "for i, description in enumerate(descriptions, 1):\n",
    "    print(f\"{i}. {description}\")\n",
    "\n",
    "# Choisir la description\n",
    "numero_description = int(input(\"\\nChoisissez le numéro de la description : \"))\n",
    "description = descriptions[numero_description - 1]\n",
    "\n",
    "# Stocker dans un tableau\n",
    "depense = [montant, categorie, description]\n",
    "\n",
    "# Afficher les informations\n",
    "print(\"\\n--- Détails de la Dépense ---\")\n",
    "print(f\"Montant : {depense[0]} DH\")\n",
    "print(f\"Catégorie : {depense[1]}\")\n",
    "print(f\"Description : {depense[2]}\")"
   ]
  },
  {
   "cell_type": "code",
   "execution_count": null,
   "id": "b9236608-f445-46c5-adeb-edc12fb8fb1b",
   "metadata": {},
   "outputs": [],
   "source": []
  }
 ],
 "metadata": {
  "kernelspec": {
   "display_name": "Python 3 (ipykernel)",
   "language": "python",
   "name": "python3"
  },
  "language_info": {
   "codemirror_mode": {
    "name": "ipython",
    "version": 3
   },
   "file_extension": ".py",
   "mimetype": "text/x-python",
   "name": "python",
   "nbconvert_exporter": "python",
   "pygments_lexer": "ipython3",
   "version": "3.12.7"
  }
 },
 "nbformat": 4,
 "nbformat_minor": 5
}
